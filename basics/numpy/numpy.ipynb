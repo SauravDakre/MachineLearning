{
  "nbformat": 4,
  "nbformat_minor": 0,
  "metadata": {
    "colab": {
      "name": "numpy.ipynb",
      "provenance": [],
      "collapsed_sections": [
        "z2BCKfmqdzGR",
        "bOCwVUaEh71W",
        "tGsIEpvby4z4",
        "sIf9dfjpzUW4",
        "CGm3XIBm3Fd5",
        "Cv4MCQoZ8iMI",
        "EVxQEzmf_u-w"
      ],
      "authorship_tag": "ABX9TyNG+vNJdWxlAfYEBG5/WqFI",
      "include_colab_link": true
    },
    "kernelspec": {
      "name": "python3",
      "display_name": "Python 3"
    },
    "language_info": {
      "name": "python"
    }
  },
  "cells": [
    {
      "cell_type": "markdown",
      "metadata": {
        "id": "view-in-github",
        "colab_type": "text"
      },
      "source": [
        "<a href=\"https://colab.research.google.com/github/SauravDakre/MachineLearning/blob/master/basics/numpy/numpy.ipynb\" target=\"_parent\"><img src=\"https://colab.research.google.com/assets/colab-badge.svg\" alt=\"Open In Colab\"/></a>"
      ]
    },
    {
      "cell_type": "code",
      "metadata": {
        "id": "5NCs7ej2coII"
      },
      "source": [
        "import numpy as np"
      ],
      "execution_count": 1,
      "outputs": []
    },
    {
      "cell_type": "markdown",
      "metadata": {
        "id": "z2BCKfmqdzGR"
      },
      "source": [
        "# NumPy Arrays"
      ]
    },
    {
      "cell_type": "markdown",
      "metadata": {
        "id": "8TMWY0ofekMm"
      },
      "source": [
        "\n",
        "`np.array` takes python list and dtype (numpy type) as input.  \n",
        "refer ex of 1-D matrix\n",
        "\n"
      ]
    },
    {
      "cell_type": "code",
      "metadata": {
        "colab": {
          "base_uri": "https://localhost:8080/"
        },
        "id": "IPMRCqcWc4QI",
        "outputId": "1fd75794-cabe-440b-d13a-544848fb5876"
      },
      "source": [
        "arr = np.array([0,1,2], dtype=np.float32)\n",
        "arr"
      ],
      "execution_count": 2,
      "outputs": [
        {
          "output_type": "execute_result",
          "data": {
            "text/plain": [
              "array([0., 1., 2.], dtype=float32)"
            ]
          },
          "metadata": {
            "tags": []
          },
          "execution_count": 2
        }
      ]
    },
    {
      "cell_type": "markdown",
      "metadata": {
        "id": "XiF3uZyjdgCg"
      },
      "source": [
        "repr() function returns a printable representation string of given object"
      ]
    },
    {
      "cell_type": "code",
      "metadata": {
        "colab": {
          "base_uri": "https://localhost:8080/",
          "height": 35
        },
        "id": "TC2NrJMzdRt3",
        "outputId": "61c7a45c-fbca-4b0c-9d2d-63b341fda28c"
      },
      "source": [
        "repr(arr)"
      ],
      "execution_count": 3,
      "outputs": [
        {
          "output_type": "execute_result",
          "data": {
            "application/vnd.google.colaboratory.intrinsic+json": {
              "type": "string"
            },
            "text/plain": [
              "'array([0., 1., 2.], dtype=float32)'"
            ]
          },
          "metadata": {
            "tags": []
          },
          "execution_count": 3
        }
      ]
    },
    {
      "cell_type": "code",
      "metadata": {
        "colab": {
          "base_uri": "https://localhost:8080/"
        },
        "id": "-tNu5obYeCPb",
        "outputId": "48794791-00d0-4b1b-f2c1-f31dfd3fb019"
      },
      "source": [
        "print(repr(arr))"
      ],
      "execution_count": 4,
      "outputs": [
        {
          "output_type": "stream",
          "text": [
            "array([0., 1., 2.], dtype=float32)\n"
          ],
          "name": "stdout"
        }
      ]
    },
    {
      "cell_type": "markdown",
      "metadata": {
        "id": "fot9BklreSuB"
      },
      "source": [
        "example to create 2D matrix"
      ]
    },
    {
      "cell_type": "code",
      "metadata": {
        "colab": {
          "base_uri": "https://localhost:8080/"
        },
        "id": "64VVn8QDdckH",
        "outputId": "ec6182cf-2e16-4bed-e289-68e9d26ccaaa"
      },
      "source": [
        "arr = np.array([[0,1,2], [3,4,5]], dtype=np.float32)\n",
        "arr"
      ],
      "execution_count": 5,
      "outputs": [
        {
          "output_type": "execute_result",
          "data": {
            "text/plain": [
              "array([[0., 1., 2.],\n",
              "       [3., 4., 5.]], dtype=float32)"
            ]
          },
          "metadata": {
            "tags": []
          },
          "execution_count": 5
        }
      ]
    },
    {
      "cell_type": "code",
      "metadata": {
        "id": "EaEw1KD6f1BR"
      },
      "source": [
        ""
      ],
      "execution_count": 5,
      "outputs": []
    },
    {
      "cell_type": "markdown",
      "metadata": {
        "id": "aXqptnmvf1gR"
      },
      "source": [
        "## Copying"
      ]
    },
    {
      "cell_type": "code",
      "metadata": {
        "colab": {
          "base_uri": "https://localhost:8080/"
        },
        "id": "AiM2RnzEeJ0K",
        "outputId": "4aced47a-f118-4fbc-e423-0361505486ec"
      },
      "source": [
        "a = np.array([0,2])\n",
        "b = np.array([1,5])\n",
        "print('a: {}'.format(repr(a)))\n",
        "print('b: {}'.format(repr(b)))\n",
        "c=a\n",
        "d = b.copy()\n",
        "c[0]=5\n",
        "d[0]=6\n",
        "print('a: {}'.format(repr(a)))\n",
        "print('b: {}'.format(repr(b)))"
      ],
      "execution_count": 6,
      "outputs": [
        {
          "output_type": "stream",
          "text": [
            "a: array([0, 2])\n",
            "b: array([1, 5])\n",
            "a: array([5, 2])\n",
            "b: array([1, 5])\n"
          ],
          "name": "stdout"
        }
      ]
    },
    {
      "cell_type": "markdown",
      "metadata": {
        "id": "zegX6PI-geJK"
      },
      "source": [
        "## Casting"
      ]
    },
    {
      "cell_type": "code",
      "metadata": {
        "colab": {
          "base_uri": "https://localhost:8080/"
        },
        "id": "0jAxx8Hjfwma",
        "outputId": "7bc89206-0943-4ed9-f21d-bcf837806014"
      },
      "source": [
        "a = np.array([0,2])\n",
        "print(a.dtype , a)\n",
        "a = a.astype(np.float32)\n",
        "print(a.dtype , a)"
      ],
      "execution_count": 7,
      "outputs": [
        {
          "output_type": "stream",
          "text": [
            "int64 [0 2]\n",
            "float32 [0. 2.]\n"
          ],
          "name": "stdout"
        }
      ]
    },
    {
      "cell_type": "markdown",
      "metadata": {
        "id": "WrITJ8SAhAmE"
      },
      "source": [
        "## NaN"
      ]
    },
    {
      "cell_type": "code",
      "metadata": {
        "colab": {
          "base_uri": "https://localhost:8080/"
        },
        "id": "hWqhuiwOfyVT",
        "outputId": "b1802aef-8f6c-4646-db2f-cdc9d8e3294f"
      },
      "source": [
        "a = np.array([np.nan, 1,2])\n",
        "b = np.array([np.nan, 'a'])\n",
        "\n",
        "# c = np.array([np.nan, 1], dtype=np.int32) # ValueError: cannot convert float NaN to integer\n",
        "print('a', a.dtype, a)\n",
        "print('b', b.dtype, b)"
      ],
      "execution_count": 8,
      "outputs": [
        {
          "output_type": "stream",
          "text": [
            "a float64 [nan  1.  2.]\n",
            "b <U32 ['nan' 'a']\n"
          ],
          "name": "stdout"
        }
      ]
    },
    {
      "cell_type": "markdown",
      "metadata": {
        "id": "bOCwVUaEh71W"
      },
      "source": [
        "## infinity"
      ]
    },
    {
      "cell_type": "code",
      "metadata": {
        "colab": {
          "base_uri": "https://localhost:8080/"
        },
        "id": "0faS3AsZhb98",
        "outputId": "fd726a66-1266-447f-aba0-012406a351b9"
      },
      "source": [
        "print(np.inf > 100000000000)\n",
        "a = np.array([np.inf, 5, -np.inf])\n",
        "print(repr(a))\n",
        "# np.array([np.inf, 5, -np.inf], dtype=np.int32) # OverflowError: cannot convert float infinity to integer"
      ],
      "execution_count": 9,
      "outputs": [
        {
          "output_type": "stream",
          "text": [
            "True\n",
            "array([ inf,   5., -inf])\n"
          ],
          "name": "stdout"
        }
      ]
    },
    {
      "cell_type": "code",
      "metadata": {
        "colab": {
          "base_uri": "https://localhost:8080/"
        },
        "id": "pBO07QAoiT-P",
        "outputId": "5310a64b-bc1c-4d00-fdce-d5f4122754f2"
      },
      "source": [
        "float_arr = np.array([1,5.4, 3])\n",
        "print(float_arr.dtype, repr(float_arr))"
      ],
      "execution_count": 10,
      "outputs": [
        {
          "output_type": "stream",
          "text": [
            "float64 array([1. , 5.4, 3. ])\n"
          ],
          "name": "stdout"
        }
      ]
    },
    {
      "cell_type": "code",
      "metadata": {
        "id": "6GnnA2tbjzvd"
      },
      "source": [
        ""
      ],
      "execution_count": 10,
      "outputs": []
    },
    {
      "cell_type": "markdown",
      "metadata": {
        "id": "ffHBzpdJwFxG"
      },
      "source": [
        "# Basics"
      ]
    },
    {
      "cell_type": "markdown",
      "metadata": {
        "id": "tGsIEpvby4z4"
      },
      "source": [
        "## ranged data"
      ]
    },
    {
      "cell_type": "code",
      "metadata": {
        "colab": {
          "base_uri": "https://localhost:8080/"
        },
        "id": "Vki9TfTjwHnf",
        "outputId": "6c63560f-5d2d-44fb-98bb-73a23ab9f86c"
      },
      "source": [
        "a = np.arange(2)\n",
        "b = np.arange(-1,3)\n",
        "c = np.arange(2,15,4)\n",
        "print(a)\n",
        "print(b)\n",
        "print(c)"
      ],
      "execution_count": 11,
      "outputs": [
        {
          "output_type": "stream",
          "text": [
            "[0 1]\n",
            "[-1  0  1  2]\n",
            "[ 2  6 10 14]\n"
          ],
          "name": "stdout"
        }
      ]
    },
    {
      "cell_type": "code",
      "metadata": {
        "colab": {
          "base_uri": "https://localhost:8080/"
        },
        "id": "UoAbkWgByDCP",
        "outputId": "e70be1c8-13c7-40d9-a9fb-ff7f838f3686"
      },
      "source": [
        "a = np.linspace(2,15,num=4)\n",
        "b = np.linspace(2,15,num=4,endpoint=False)\n",
        "c = np.linspace(2,15,num=4,endpoint=False, dtype=np.int32)\n",
        "print(a)\n",
        "print(b)\n",
        "print(c)"
      ],
      "execution_count": 12,
      "outputs": [
        {
          "output_type": "stream",
          "text": [
            "[ 2.          6.33333333 10.66666667 15.        ]\n",
            "[ 2.    5.25  8.5  11.75]\n",
            "[ 2  5  8 11]\n"
          ],
          "name": "stdout"
        }
      ]
    },
    {
      "cell_type": "code",
      "metadata": {
        "id": "qmfV69FowOFT"
      },
      "source": [
        ""
      ],
      "execution_count": 12,
      "outputs": []
    },
    {
      "cell_type": "markdown",
      "metadata": {
        "id": "sIf9dfjpzUW4"
      },
      "source": [
        "## reshape"
      ]
    },
    {
      "cell_type": "code",
      "metadata": {
        "colab": {
          "base_uri": "https://localhost:8080/"
        },
        "id": "7kgfi0-PzVoD",
        "outputId": "ad90e2ef-c35a-4626-939b-e2be66d63071"
      },
      "source": [
        "ar = np.arange(10)\n",
        "print(ar.dtype, ar)"
      ],
      "execution_count": 13,
      "outputs": [
        {
          "output_type": "stream",
          "text": [
            "int64 [0 1 2 3 4 5 6 7 8 9]\n"
          ],
          "name": "stdout"
        }
      ]
    },
    {
      "cell_type": "code",
      "metadata": {
        "colab": {
          "base_uri": "https://localhost:8080/"
        },
        "id": "lX9hsiNbzZwL",
        "outputId": "7b4038f2-af4d-4fcb-ac42-9fd293c00eab"
      },
      "source": [
        "# r1 = np.reshape(ar, (2,4)) # ValueError: cannot reshape array of size 10 into shape (2,4)\n",
        "r2 = np.reshape(ar, (2,5))\n",
        "print( r2)"
      ],
      "execution_count": 14,
      "outputs": [
        {
          "output_type": "stream",
          "text": [
            "[[0 1 2 3 4]\n",
            " [5 6 7 8 9]]\n"
          ],
          "name": "stdout"
        }
      ]
    },
    {
      "cell_type": "code",
      "metadata": {
        "colab": {
          "base_uri": "https://localhost:8080/"
        },
        "id": "umSfssHzz8yg",
        "outputId": "40f92c03-1aa0-490d-8933-915b2ecbc3b9"
      },
      "source": [
        "ar = np.arange(12)\n",
        "r2 = np.reshape(ar, (2,-1,2)) # the special value of -1 can be used in at most one dimension of the new shape. The dimension with -1 will take on the value necessary to allow the new shape to contain all the elements of the array.\n",
        "print(r2.shape, r2)"
      ],
      "execution_count": 15,
      "outputs": [
        {
          "output_type": "stream",
          "text": [
            "(2, 3, 2) [[[ 0  1]\n",
            "  [ 2  3]\n",
            "  [ 4  5]]\n",
            "\n",
            " [[ 6  7]\n",
            "  [ 8  9]\n",
            "  [10 11]]]\n"
          ],
          "name": "stdout"
        }
      ]
    },
    {
      "cell_type": "code",
      "metadata": {
        "colab": {
          "base_uri": "https://localhost:8080/"
        },
        "id": "fPXBqs3c0qky",
        "outputId": "93a25c13-f725-4ef3-f000-3c4f7d3e0477"
      },
      "source": [
        "f1 = r2.flatten()\n",
        "print(f1.shape, f1)"
      ],
      "execution_count": 16,
      "outputs": [
        {
          "output_type": "stream",
          "text": [
            "(12,) [ 0  1  2  3  4  5  6  7  8  9 10 11]\n"
          ],
          "name": "stdout"
        }
      ]
    },
    {
      "cell_type": "markdown",
      "metadata": {
        "id": "CGm3XIBm3Fd5"
      },
      "source": [
        "## transpose"
      ]
    },
    {
      "cell_type": "code",
      "metadata": {
        "colab": {
          "base_uri": "https://localhost:8080/"
        },
        "id": "vRhgVevM27Oz",
        "outputId": "e9f60238-348a-4274-bce3-fc19561bc26f"
      },
      "source": [
        "arr = np.arange(8)\n",
        "arr = np.reshape(arr, (4, 2))\n",
        "transposed = np.transpose(arr)\n",
        "print(arr.shape, arr)\n",
        "print(transposed.shape, transposed)"
      ],
      "execution_count": 17,
      "outputs": [
        {
          "output_type": "stream",
          "text": [
            "(4, 2) [[0 1]\n",
            " [2 3]\n",
            " [4 5]\n",
            " [6 7]]\n",
            "(2, 4) [[0 2 4 6]\n",
            " [1 3 5 7]]\n"
          ],
          "name": "stdout"
        }
      ]
    },
    {
      "cell_type": "code",
      "metadata": {
        "colab": {
          "base_uri": "https://localhost:8080/"
        },
        "id": "n0NrqTpJ3yir",
        "outputId": "3b3a25ca-5877-444d-dffc-a0bd0e2c1771"
      },
      "source": [
        "arr = np.arange(24)\n",
        "arr = np.reshape(arr, (3, 4, 2))\n",
        "print(arr)\n",
        "transposed = np.transpose(arr, axes=(1, 2, 0))\n",
        "print(transposed)\n",
        "print('arr shape: {}'.format(arr.shape))\n",
        "print('transposed shape: {}'.format(transposed.shape))"
      ],
      "execution_count": 18,
      "outputs": [
        {
          "output_type": "stream",
          "text": [
            "[[[ 0  1]\n",
            "  [ 2  3]\n",
            "  [ 4  5]\n",
            "  [ 6  7]]\n",
            "\n",
            " [[ 8  9]\n",
            "  [10 11]\n",
            "  [12 13]\n",
            "  [14 15]]\n",
            "\n",
            " [[16 17]\n",
            "  [18 19]\n",
            "  [20 21]\n",
            "  [22 23]]]\n",
            "[[[ 0  8 16]\n",
            "  [ 1  9 17]]\n",
            "\n",
            " [[ 2 10 18]\n",
            "  [ 3 11 19]]\n",
            "\n",
            " [[ 4 12 20]\n",
            "  [ 5 13 21]]\n",
            "\n",
            " [[ 6 14 22]\n",
            "  [ 7 15 23]]]\n",
            "arr shape: (3, 4, 2)\n",
            "transposed shape: (4, 2, 3)\n"
          ],
          "name": "stdout"
        }
      ]
    },
    {
      "cell_type": "code",
      "metadata": {
        "colab": {
          "base_uri": "https://localhost:8080/"
        },
        "id": "DVy3cRGG4YM3",
        "outputId": "06b74b19-c765-45a5-c734-7510da7d9528"
      },
      "source": [
        "a = np.zeros(4)\n",
        "print(a)\n",
        "b = np.ones((2,4), dtype=np.int32)\n",
        "print(b)\n",
        "c=np.zeros_like(b)\n",
        "print(c)\n",
        "a = np.array([[1,2], [3,4]])\n",
        "print(a)\n",
        "b = np.ones_like(a)\n",
        "print(b)\n"
      ],
      "execution_count": 19,
      "outputs": [
        {
          "output_type": "stream",
          "text": [
            "[0. 0. 0. 0.]\n",
            "[[1 1 1 1]\n",
            " [1 1 1 1]]\n",
            "[[0 0 0 0]\n",
            " [0 0 0 0]]\n",
            "[[1 2]\n",
            " [3 4]]\n",
            "[[1 1]\n",
            " [1 1]]\n"
          ],
          "name": "stdout"
        }
      ]
    },
    {
      "cell_type": "code",
      "metadata": {
        "id": "A_WT9PBk5Ywm"
      },
      "source": [
        ""
      ],
      "execution_count": 19,
      "outputs": []
    },
    {
      "cell_type": "markdown",
      "metadata": {
        "id": "N4fWUrSc8eiV"
      },
      "source": [
        "# math"
      ]
    },
    {
      "cell_type": "markdown",
      "metadata": {
        "id": "Cv4MCQoZ8iMI"
      },
      "source": [
        "## arithematic"
      ]
    },
    {
      "cell_type": "markdown",
      "metadata": {
        "id": "TFEgbLf-8_bd"
      },
      "source": [
        "we can perform arithematic operation like add, subtract, multiply, divide, power which will be performed on all elements of matrix"
      ]
    },
    {
      "cell_type": "code",
      "metadata": {
        "colab": {
          "base_uri": "https://localhost:8080/"
        },
        "id": "WF2tRVhV8fn6",
        "outputId": "9f8ebe1f-c05d-427c-d1d1-fe43e631d688"
      },
      "source": [
        "ar = np.array([[1,2],[3,4]])\n",
        "print(ar)\n",
        "print(ar/2)\n",
        "print(ar//2)\n",
        "print(ar*2)\n",
        "print(ar**0.5)"
      ],
      "execution_count": 20,
      "outputs": [
        {
          "output_type": "stream",
          "text": [
            "[[1 2]\n",
            " [3 4]]\n",
            "[[0.5 1. ]\n",
            " [1.5 2. ]]\n",
            "[[0 1]\n",
            " [1 2]]\n",
            "[[2 4]\n",
            " [6 8]]\n",
            "[[1.         1.41421356]\n",
            " [1.73205081 2.        ]]\n"
          ],
          "name": "stdout"
        }
      ]
    },
    {
      "cell_type": "code",
      "metadata": {
        "id": "F4iv6x5a9sIX"
      },
      "source": [
        "def perform_some_operation(t):\n",
        "  return t*2 + 1\n",
        "  "
      ],
      "execution_count": 21,
      "outputs": []
    },
    {
      "cell_type": "code",
      "metadata": {
        "colab": {
          "base_uri": "https://localhost:8080/"
        },
        "id": "8Nn2HzBq99YF",
        "outputId": "acf36545-2f92-4ab1-a26c-70bf5df15702"
      },
      "source": [
        "modified = perform_some_operation(ar)\n",
        "print(modified)\n",
        "print(ar)\n",
        "      "
      ],
      "execution_count": 22,
      "outputs": [
        {
          "output_type": "stream",
          "text": [
            "[[3 5]\n",
            " [7 9]]\n",
            "[[1 2]\n",
            " [3 4]]\n"
          ],
          "name": "stdout"
        }
      ]
    },
    {
      "cell_type": "code",
      "metadata": {
        "id": "mUbmAv58_uWe"
      },
      "source": [
        ""
      ],
      "execution_count": 22,
      "outputs": []
    },
    {
      "cell_type": "markdown",
      "metadata": {
        "id": "EVxQEzmf_u-w"
      },
      "source": [
        "## non linear function"
      ]
    },
    {
      "cell_type": "code",
      "metadata": {
        "colab": {
          "base_uri": "https://localhost:8080/"
        },
        "id": "M4dJXD6o-VLz",
        "outputId": "f518a0f6-370f-4245-f1c7-fce1f73a4429"
      },
      "source": [
        "a = np.array([[1,2],[3,4]])\n",
        "pow = np.array([[3,3],[2,2]])\n",
        "print(a)\n",
        "print(np.exp(a)) # power of e\n",
        "print(np.exp2(a)) # power of 2\n",
        "print(np.log(a)) # natural log\n",
        "print(np.log10(a))\n",
        "print(np.power(5,a)) # raise 5 to power of a\n",
        "print(np.power(a,5)) # raise a to power of 5\n",
        "print(np.power(a,pow)) # raise element of a to element of pow"
      ],
      "execution_count": 23,
      "outputs": [
        {
          "output_type": "stream",
          "text": [
            "[[1 2]\n",
            " [3 4]]\n",
            "[[ 2.71828183  7.3890561 ]\n",
            " [20.08553692 54.59815003]]\n",
            "[[ 2.  4.]\n",
            " [ 8. 16.]]\n",
            "[[0.         0.69314718]\n",
            " [1.09861229 1.38629436]]\n",
            "[[0.         0.30103   ]\n",
            " [0.47712125 0.60205999]]\n",
            "[[  5  25]\n",
            " [125 625]]\n",
            "[[   1   32]\n",
            " [ 243 1024]]\n",
            "[[ 1  8]\n",
            " [ 9 16]]\n"
          ],
          "name": "stdout"
        }
      ]
    },
    {
      "cell_type": "markdown",
      "metadata": {
        "id": "jp7EHRPeCkvX"
      },
      "source": [
        "## matrix multiplication"
      ]
    },
    {
      "cell_type": "code",
      "metadata": {
        "colab": {
          "base_uri": "https://localhost:8080/"
        },
        "id": "EShyDbM8AEjo",
        "outputId": "1f445959-1f53-4036-a624-65536670a07d"
      },
      "source": [
        "print(np.matmul(np.array([1,2]), np.array([3,4])))"
      ],
      "execution_count": 24,
      "outputs": [
        {
          "output_type": "stream",
          "text": [
            "11\n"
          ],
          "name": "stdout"
        }
      ]
    },
    {
      "cell_type": "code",
      "metadata": {
        "colab": {
          "base_uri": "https://localhost:8080/"
        },
        "id": "DiPPv1eUDN68",
        "outputId": "628c5197-c618-4a45-9256-1a6f5a257bf5"
      },
      "source": [
        "a = np.array([[1,2],[3,4]])\n",
        "b = np.array([[4,2],[2,4]])\n",
        "print(np.matmul(a,b))"
      ],
      "execution_count": 25,
      "outputs": [
        {
          "output_type": "stream",
          "text": [
            "[[ 8 10]\n",
            " [20 22]]\n"
          ],
          "name": "stdout"
        }
      ]
    },
    {
      "cell_type": "code",
      "metadata": {
        "id": "6MQ0JfueDgCt"
      },
      "source": [
        ""
      ],
      "execution_count": 25,
      "outputs": []
    },
    {
      "cell_type": "markdown",
      "metadata": {
        "id": "4h130haPEdM-"
      },
      "source": [
        "## Random"
      ]
    },
    {
      "cell_type": "code",
      "metadata": {
        "colab": {
          "base_uri": "https://localhost:8080/"
        },
        "id": "kHpzzSZ2EiOE",
        "outputId": "2f912487-518f-4772-e163-b78420e0f465"
      },
      "source": [
        "print(np.random.randint(5, high=6))"
      ],
      "execution_count": 29,
      "outputs": [
        {
          "output_type": "stream",
          "text": [
            "5\n"
          ],
          "name": "stdout"
        }
      ]
    },
    {
      "cell_type": "code",
      "metadata": {
        "colab": {
          "base_uri": "https://localhost:8080/"
        },
        "id": "SRsdOSXgEvIg",
        "outputId": "d411d379-1b4e-4266-c4b4-af8033fe1918"
      },
      "source": [
        "random_arr = np.random.randint(-3, high=14, size=(2, 2))\n",
        "random_arr"
      ],
      "execution_count": 27,
      "outputs": [
        {
          "output_type": "execute_result",
          "data": {
            "text/plain": [
              "array([[13,  0],\n",
              "       [-3,  7]])"
            ]
          },
          "metadata": {
            "tags": []
          },
          "execution_count": 27
        }
      ]
    },
    {
      "cell_type": "code",
      "metadata": {
        "colab": {
          "base_uri": "https://localhost:8080/"
        },
        "id": "quMuGUAoE0lm",
        "outputId": "1f48580c-c150-4a66-c9c0-269c70262a20"
      },
      "source": [
        "# np.random.seed() - sets the random seed, which allow us to control result of random function\n",
        "np.random.seed(1)\n",
        "print(np.random.randint(15))\n",
        "random_arr = np.random.randint(-3, high=14, size=(2, 2))\n",
        "print(random_arr)"
      ],
      "execution_count": 30,
      "outputs": [
        {
          "output_type": "stream",
          "text": [
            "5\n",
            "[[8 9]\n",
            " [5 6]]\n"
          ],
          "name": "stdout"
        }
      ]
    },
    {
      "cell_type": "code",
      "metadata": {
        "colab": {
          "base_uri": "https://localhost:8080/"
        },
        "id": "6cXGYGN8GWXS",
        "outputId": "10c72ee6-f93f-4cf0-b8d4-4420ea22fb66"
      },
      "source": [
        "np.random.seed(1)\n",
        "print(np.random.randint(15))\n",
        "random_arr = np.random.randint(-3, high=14, size=(2, 2))\n",
        "print(random_arr)"
      ],
      "execution_count": 31,
      "outputs": [
        {
          "output_type": "stream",
          "text": [
            "5\n",
            "[[8 9]\n",
            " [5 6]]\n"
          ],
          "name": "stdout"
        }
      ]
    },
    {
      "cell_type": "code",
      "metadata": {
        "colab": {
          "base_uri": "https://localhost:8080/"
        },
        "id": "rq8eaMl9GY3V",
        "outputId": "1032bd14-c7d3-4b6f-f680-bce45ed677e2"
      },
      "source": [
        "np.random.seed(2)\n",
        "print(np.random.randint(15))\n",
        "random_arr = np.random.randint(-3, high=14, size=(2, 2))\n",
        "print(random_arr)"
      ],
      "execution_count": 32,
      "outputs": [
        {
          "output_type": "stream",
          "text": [
            "8\n",
            "[[12 10]\n",
            " [ 5  8]]\n"
          ],
          "name": "stdout"
        }
      ]
    },
    {
      "cell_type": "code",
      "metadata": {
        "colab": {
          "base_uri": "https://localhost:8080/"
        },
        "id": "LYmxYlrTGcBV",
        "outputId": "17ce3565-c0c5-4266-f529-85dbe9f6b954"
      },
      "source": [
        "v = np.array([1,2,3,4])\n",
        "np.random.shuffle(v)\n",
        "print(v)\n",
        "np.random.shuffle(random_arr)\n",
        "print(random_arr)"
      ],
      "execution_count": 34,
      "outputs": [
        {
          "output_type": "stream",
          "text": [
            "[1 3 4 2]\n",
            "[[ 5  8]\n",
            " [12 10]]\n"
          ],
          "name": "stdout"
        }
      ]
    },
    {
      "cell_type": "code",
      "metadata": {
        "colab": {
          "base_uri": "https://localhost:8080/"
        },
        "id": "p2irrCuLGycd",
        "outputId": "c240fe79-d8bb-4fa9-cfaf-8cb6e37046ac"
      },
      "source": [
        "print(np.random.uniform(low=-1.5, high=2.2))\n",
        "print(np.random.normal(loc=1.5, scale=3.5))"
      ],
      "execution_count": 35,
      "outputs": [
        {
          "output_type": "stream",
          "text": [
            "0.29515086551950054\n",
            "5.438479075011392\n"
          ],
          "name": "stdout"
        }
      ]
    },
    {
      "cell_type": "code",
      "metadata": {
        "colab": {
          "base_uri": "https://localhost:8080/"
        },
        "id": "GqocXR4ZH3nV",
        "outputId": "21cce9ce-bd19-459c-e613-7b529b5d7b75"
      },
      "source": [
        "day = ['sunday', 'monday', 'tuesday']\n",
        "print(np.random.choice(day))\n",
        "print(np.random.choice(day, size=(2,3), p=[0.4,0.4,0.2]))"
      ],
      "execution_count": 38,
      "outputs": [
        {
          "output_type": "stream",
          "text": [
            "monday\n",
            "[['tuesday' 'sunday' 'sunday']\n",
            " ['sunday' 'sunday' 'monday']]\n"
          ],
          "name": "stdout"
        }
      ]
    },
    {
      "cell_type": "code",
      "metadata": {
        "id": "_zUPqlH2IX1G"
      },
      "source": [
        ""
      ],
      "execution_count": null,
      "outputs": []
    },
    {
      "cell_type": "code",
      "metadata": {
        "id": "Rx59lLz4IxN6"
      },
      "source": [
        ""
      ],
      "execution_count": null,
      "outputs": []
    },
    {
      "cell_type": "markdown",
      "metadata": {
        "id": "mPvpmL7WIx_2"
      },
      "source": [
        "## indexing"
      ]
    },
    {
      "cell_type": "code",
      "metadata": {
        "colab": {
          "base_uri": "https://localhost:8080/"
        },
        "id": "F2-wJUuTIzX0",
        "outputId": "176a2527-3ee4-41b6-ab52-18191396784e"
      },
      "source": [
        "ar = np.array([1,2,3,4,5])\n",
        "print(ar[2])"
      ],
      "execution_count": 39,
      "outputs": [
        {
          "output_type": "stream",
          "text": [
            "3\n"
          ],
          "name": "stdout"
        }
      ]
    },
    {
      "cell_type": "code",
      "metadata": {
        "colab": {
          "base_uri": "https://localhost:8080/"
        },
        "id": "f1G3X6QqI4ei",
        "outputId": "d1d5ace1-1eba-4d50-f3be-fd455012a2f0"
      },
      "source": [
        "# slicing\n",
        "print(repr(ar[:]))\n",
        "print(repr(ar[1:]))\n",
        "print(repr(ar[2:4]))\n",
        "print(repr(ar[:-1]))\n",
        "print(repr(ar[-2:]))"
      ],
      "execution_count": 40,
      "outputs": [
        {
          "output_type": "stream",
          "text": [
            "array([1, 2, 3, 4, 5])\n",
            "array([2, 3, 4, 5])\n",
            "array([3, 4])\n",
            "array([1, 2, 3, 4])\n",
            "array([4, 5])\n"
          ],
          "name": "stdout"
        }
      ]
    },
    {
      "cell_type": "code",
      "metadata": {
        "colab": {
          "base_uri": "https://localhost:8080/"
        },
        "id": "t48BQPbCJR9l",
        "outputId": "d3a28a1f-5318-4ec1-f93f-01a18f1ac58b"
      },
      "source": [
        "m = np.reshape(np.arange(9), (3,3))\n",
        "m"
      ],
      "execution_count": 41,
      "outputs": [
        {
          "output_type": "execute_result",
          "data": {
            "text/plain": [
              "array([[0, 1, 2],\n",
              "       [3, 4, 5],\n",
              "       [6, 7, 8]])"
            ]
          },
          "metadata": {
            "tags": []
          },
          "execution_count": 41
        }
      ]
    },
    {
      "cell_type": "code",
      "metadata": {
        "colab": {
          "base_uri": "https://localhost:8080/"
        },
        "id": "YRe7hkWpKGWM",
        "outputId": "9edec1c2-5904-4f4a-ae5a-d4b7d747fe5f"
      },
      "source": [
        "print(repr(m[:]))\n",
        "print(repr(m[1:]))\n",
        "print(\"m:\", m)\n",
        "print(\"m[:, -1]\", repr(m[:, -1]))\n",
        "print(\"m[:, 1:]\",repr(m[:, 1:]))\n",
        "print(\"m[0:1, 1:\",repr(m[0:1, 1:]))\n",
        "print(\"m[0:2, 1:\",repr(m[0:2, 1:]))\n",
        "print(\"m[0, 1:]\",repr(m[0, 1:]))"
      ],
      "execution_count": 45,
      "outputs": [
        {
          "output_type": "stream",
          "text": [
            "array([[0, 1, 2],\n",
            "       [3, 4, 5],\n",
            "       [6, 7, 8]])\n",
            "array([[3, 4, 5],\n",
            "       [6, 7, 8]])\n",
            "m: [[0 1 2]\n",
            " [3 4 5]\n",
            " [6 7 8]]\n",
            "m[:, -1] array([2, 5, 8])\n",
            "m[:, 1:] array([[1, 2],\n",
            "       [4, 5],\n",
            "       [7, 8]])\n",
            "m[0:1, 1: array([[1, 2]])\n",
            "m[0:2, 1: array([[1, 2],\n",
            "       [4, 5]])\n",
            "m[0, 1:] array([1, 2])\n"
          ],
          "name": "stdout"
        }
      ]
    },
    {
      "cell_type": "code",
      "metadata": {
        "colab": {
          "base_uri": "https://localhost:8080/"
        },
        "id": "MInY9pcnKQuX",
        "outputId": "3ef32be8-25bc-4e43-8e5c-d3e05ebe843b"
      },
      "source": [
        "# argmin - gives the index of min element\n",
        "# argmax - gives the index of max element\n",
        "arr = np.array([[-2, -1, -3],\n",
        "                [4, 5, -6],\n",
        "                [-3, 9, 1]])\n",
        "print(np.argmin(arr[0]))\n",
        "print(np.argmax(arr[2]))\n",
        "print(np.argmin(arr))"
      ],
      "execution_count": 46,
      "outputs": [
        {
          "output_type": "stream",
          "text": [
            "2\n",
            "1\n",
            "5\n"
          ],
          "name": "stdout"
        }
      ]
    },
    {
      "cell_type": "code",
      "metadata": {
        "colab": {
          "base_uri": "https://localhost:8080/"
        },
        "id": "RRsCYV8dMsYV",
        "outputId": "fb173816-593c-4834-b727-cdcf8aab9b7d"
      },
      "source": [
        "print(arr)\n",
        "# using axis=0 meant the function found the index of the minimum row element for each column. \n",
        "# When we used axis=1, the function found the index of the minimum column element for each row.\n",
        "# Setting axis to -1 just means we apply the function across the last dimension. In this case, axis=-1 is equivalent to axis=1.\n",
        "print(repr(np.argmin(arr, axis=0)))\n",
        "print(repr(np.argmin(arr, axis=1)))\n",
        "print(repr(np.argmax(arr, axis=-1)))"
      ],
      "execution_count": 48,
      "outputs": [
        {
          "output_type": "stream",
          "text": [
            "[[-2 -1 -3]\n",
            " [ 4  5 -6]\n",
            " [-3  9  1]]\n",
            "array([2, 0, 1])\n",
            "array([2, 2, 0])\n",
            "array([1, 1, 1])\n"
          ],
          "name": "stdout"
        }
      ]
    },
    {
      "cell_type": "code",
      "metadata": {
        "colab": {
          "base_uri": "https://localhost:8080/"
        },
        "id": "1yJCj9IkM-Wk",
        "outputId": "bb449047-46da-4edf-830c-dcb9332033a1"
      },
      "source": [
        "print(arr)\n",
        "print(repr(arr == 3))\n",
        "print(repr(arr > 0))\n",
        "print(repr(arr != 1))\n",
        "# Negated from the previous step\n",
        "print(repr(~(arr != 1)))"
      ],
      "execution_count": 49,
      "outputs": [
        {
          "output_type": "stream",
          "text": [
            "[[-2 -1 -3]\n",
            " [ 4  5 -6]\n",
            " [-3  9  1]]\n",
            "array([[False, False, False],\n",
            "       [False, False, False],\n",
            "       [False, False, False]])\n",
            "array([[False, False, False],\n",
            "       [ True,  True, False],\n",
            "       [False,  True,  True]])\n",
            "array([[ True,  True,  True],\n",
            "       [ True,  True,  True],\n",
            "       [ True,  True, False]])\n",
            "array([[False, False, False],\n",
            "       [False, False, False],\n",
            "       [False, False,  True]])\n"
          ],
          "name": "stdout"
        }
      ]
    },
    {
      "cell_type": "code",
      "metadata": {
        "colab": {
          "base_uri": "https://localhost:8080/"
        },
        "id": "23P_7zUaPR2T",
        "outputId": "a054f9b2-c822-4a64-cf7f-8ba1ac53e0ad"
      },
      "source": [
        "arr = np.array([[0, 2, np.nan],\n",
        "                [1, np.nan, -6],\n",
        "                [np.nan, -2, 1]])\n",
        "print(repr(np.isnan(arr)))"
      ],
      "execution_count": 50,
      "outputs": [
        {
          "output_type": "stream",
          "text": [
            "array([[False, False,  True],\n",
            "       [False,  True, False],\n",
            "       [ True, False, False]])\n"
          ],
          "name": "stdout"
        }
      ]
    },
    {
      "cell_type": "code",
      "metadata": {
        "colab": {
          "base_uri": "https://localhost:8080/"
        },
        "id": "lrflTQz7PgK6",
        "outputId": "8fbf5257-7a59-40a0-9542-9f2970af44f3"
      },
      "source": [
        "# filtering\n",
        "# where function prints index\n",
        "print(\"repr(np.where([True, False, True]))\",repr(np.where([True, False, True])))\n",
        "\n",
        "arr = np.array([0, 3, 5, 3, 1])\n",
        "print(\"repr(np.where(arr == 3))\",repr(np.where(arr == 3)))\n",
        "\n",
        "arr = np.array([[0, 2, 3],\n",
        "                [1, 0, 0],\n",
        "                [-3, 0, 0]])\n",
        "x_ind, y_ind = np.where(arr != 0)\n",
        "print(\"repr(x_ind)\",repr(x_ind)) # x indices of non-zero elements\n",
        "print(\"repr(y_ind)\", repr(y_ind)) # y indices of non-zero elements\n",
        "print(\"repr(arr[x_ind, y_ind]\",repr(arr[x_ind, y_ind]))"
      ],
      "execution_count": 51,
      "outputs": [
        {
          "output_type": "stream",
          "text": [
            "repr(np.where([True, False, True])) (array([0, 2]),)\n",
            "repr(np.where(arr == 3)) (array([1, 3]),)\n",
            "repr(x_ind) array([0, 0, 1, 2])\n",
            "repr(y_ind) array([1, 2, 0, 0])\n",
            "repr(arr[x_ind, y_ind] array([ 2,  3,  1, -3])\n"
          ],
          "name": "stdout"
        }
      ]
    },
    {
      "cell_type": "code",
      "metadata": {
        "colab": {
          "base_uri": "https://localhost:8080/"
        },
        "id": "GigNlcHkQiKc",
        "outputId": "d3f2b38a-c238-4a1d-f750-6685c02c8cc3"
      },
      "source": [
        "arr = np.array([[-2, -1, -3],\n",
        "                [4, 5, -6],\n",
        "                [3, 9, 1]])\n",
        "print(repr(arr > 0))\n",
        "print(np.any(arr > 0)) # or\n",
        "print(np.all(arr > 0)) # and"
      ],
      "execution_count": 52,
      "outputs": [
        {
          "output_type": "stream",
          "text": [
            "array([[False, False, False],\n",
            "       [ True,  True, False],\n",
            "       [ True,  True,  True]])\n",
            "True\n",
            "False\n"
          ],
          "name": "stdout"
        }
      ]
    },
    {
      "cell_type": "markdown",
      "metadata": {
        "id": "KdSJZJ1ySjCg"
      },
      "source": [
        "## statistics"
      ]
    },
    {
      "cell_type": "code",
      "metadata": {
        "colab": {
          "base_uri": "https://localhost:8080/"
        },
        "id": "XsA2-CsWRVN8",
        "outputId": "3fa12725-c314-48fb-cff2-f9f34338b8e0"
      },
      "source": [
        "arr = np.array([[0, 2, 5],\n",
        "                [1, 8, -6],\n",
        "                [-9, -2, 5]])\n",
        "print(arr.min())\n",
        "print(arr.max())\n",
        "\n",
        "print(repr(arr.min(axis=0))) # column wise\n",
        "print(repr(arr.max(axis=1))) # row wise"
      ],
      "execution_count": 62,
      "outputs": [
        {
          "output_type": "stream",
          "text": [
            "-9\n",
            "8\n",
            "array([-9, -2, -6])\n",
            "array([5, 8, 5])\n"
          ],
          "name": "stdout"
        }
      ]
    },
    {
      "cell_type": "code",
      "metadata": {
        "colab": {
          "base_uri": "https://localhost:8080/"
        },
        "id": "TFfZPV_gR_nr",
        "outputId": "8bdfeda2-e82d-4a0d-dbbf-29d8c899f226"
      },
      "source": [
        "print(arr)\n",
        "print(np.mean(arr))\n",
        "print(np.var(arr))\n",
        "print(np.median(arr))\n",
        "print(repr(np.median(arr, axis=-1)))"
      ],
      "execution_count": 63,
      "outputs": [
        {
          "output_type": "stream",
          "text": [
            "[[ 0  2  5]\n",
            " [ 1  8 -6]\n",
            " [-9 -2  5]]\n",
            "0.4444444444444444\n",
            "26.469135802469136\n",
            "1.0\n",
            "array([ 2.,  1., -2.])\n"
          ],
          "name": "stdout"
        }
      ]
    },
    {
      "cell_type": "code",
      "metadata": {
        "id": "ViDnDUp8Sbvr"
      },
      "source": [
        ""
      ],
      "execution_count": 63,
      "outputs": []
    },
    {
      "cell_type": "markdown",
      "metadata": {
        "id": "1PnaDt7iSlHR"
      },
      "source": [
        "## aggregation"
      ]
    },
    {
      "cell_type": "code",
      "metadata": {
        "colab": {
          "base_uri": "https://localhost:8080/"
        },
        "id": "BTZpj6jLSmpS",
        "outputId": "d555d6a5-e1b5-4715-d96f-17a8d9fc11e2"
      },
      "source": [
        "print(arr)\n",
        "print(np.sum(arr))\n",
        "print(repr(np.sum(arr, axis=0)))\n",
        "print(repr(np.sum(arr, axis=1)))"
      ],
      "execution_count": 64,
      "outputs": [
        {
          "output_type": "stream",
          "text": [
            "[[ 0  2  5]\n",
            " [ 1  8 -6]\n",
            " [-9 -2  5]]\n",
            "4\n",
            "array([-8,  8,  4])\n",
            "array([ 7,  3, -6])\n"
          ],
          "name": "stdout"
        }
      ]
    },
    {
      "cell_type": "code",
      "metadata": {
        "colab": {
          "base_uri": "https://localhost:8080/"
        },
        "id": "1joRjYS3TPC7",
        "outputId": "712d5b86-e658-4163-a705-a167dfd61b04"
      },
      "source": [
        "print(arr)\n",
        "# cumulative sum\n",
        "print(repr(np.cumsum(arr)))\n",
        "print(repr(np.cumsum(arr, axis=0)))\n",
        "print(repr(np.cumsum(arr, axis=1)))"
      ],
      "execution_count": 65,
      "outputs": [
        {
          "output_type": "stream",
          "text": [
            "[[ 0  2  5]\n",
            " [ 1  8 -6]\n",
            " [-9 -2  5]]\n",
            "array([ 0,  2,  7,  8, 16, 10,  1, -1,  4])\n",
            "array([[ 0,  2,  5],\n",
            "       [ 1, 10, -1],\n",
            "       [-8,  8,  4]])\n",
            "array([[  0,   2,   7],\n",
            "       [  1,   9,   3],\n",
            "       [ -9, -11,  -6]])\n"
          ],
          "name": "stdout"
        }
      ]
    },
    {
      "cell_type": "code",
      "metadata": {
        "colab": {
          "base_uri": "https://localhost:8080/"
        },
        "id": "IUDXlU43TeGb",
        "outputId": "f39eccd3-9d3b-4381-d4d9-b36406975c3e"
      },
      "source": [
        "ar2 = np.reshape(np.arange(9), (3,3))\n",
        "print(ar2)\n",
        "print(arr)"
      ],
      "execution_count": 69,
      "outputs": [
        {
          "output_type": "stream",
          "text": [
            "[[0 1 2]\n",
            " [3 4 5]\n",
            " [6 7 8]]\n",
            "[[ 0  2  5]\n",
            " [ 1  8 -6]\n",
            " [-9 -2  5]]\n"
          ],
          "name": "stdout"
        }
      ]
    },
    {
      "cell_type": "code",
      "metadata": {
        "colab": {
          "base_uri": "https://localhost:8080/"
        },
        "id": "pX8_lVBcUIwj",
        "outputId": "810a846b-ca7a-4ede-d899-81c3ce1e2ee3"
      },
      "source": [
        "print(repr(np.concatenate([arr, ar2])))\n",
        "print(repr(np.concatenate([arr, ar2], axis=1)))\n",
        "print(repr(np.concatenate([ar2, arr], axis=1)))\n",
        "print(repr(np.concatenate([ar2, arr], axis=0)))"
      ],
      "execution_count": 72,
      "outputs": [
        {
          "output_type": "stream",
          "text": [
            "array([[ 0,  2,  5],\n",
            "       [ 1,  8, -6],\n",
            "       [-9, -2,  5],\n",
            "       [ 0,  1,  2],\n",
            "       [ 3,  4,  5],\n",
            "       [ 6,  7,  8]])\n",
            "array([[ 0,  2,  5,  0,  1,  2],\n",
            "       [ 1,  8, -6,  3,  4,  5],\n",
            "       [-9, -2,  5,  6,  7,  8]])\n",
            "array([[ 0,  1,  2,  0,  2,  5],\n",
            "       [ 3,  4,  5,  1,  8, -6],\n",
            "       [ 6,  7,  8, -9, -2,  5]])\n",
            "array([[ 0,  1,  2],\n",
            "       [ 3,  4,  5],\n",
            "       [ 6,  7,  8],\n",
            "       [ 0,  2,  5],\n",
            "       [ 1,  8, -6],\n",
            "       [-9, -2,  5]])\n"
          ],
          "name": "stdout"
        }
      ]
    },
    {
      "cell_type": "code",
      "metadata": {
        "colab": {
          "base_uri": "https://localhost:8080/"
        },
        "id": "O7AyMv59UdP6",
        "outputId": "05894bcc-f50d-41ba-a15f-961030c96419"
      },
      "source": [
        "# save data\n",
        "arr = np.array([1, 2, 3])\n",
        "np.save('arr.npy', arr)\n",
        "load_arr = np.load('arr.npy')\n",
        "print(repr(load_arr))"
      ],
      "execution_count": 73,
      "outputs": [
        {
          "output_type": "stream",
          "text": [
            "array([1, 2, 3])\n"
          ],
          "name": "stdout"
        }
      ]
    },
    {
      "cell_type": "code",
      "metadata": {
        "id": "JX6S_VCcU83C"
      },
      "source": [
        ""
      ],
      "execution_count": null,
      "outputs": []
    }
  ]
}