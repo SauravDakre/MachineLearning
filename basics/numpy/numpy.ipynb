{
  "nbformat": 4,
  "nbformat_minor": 0,
  "metadata": {
    "colab": {
      "name": "numpy.ipynb",
      "provenance": [],
      "authorship_tag": "ABX9TyM1/BNaaVSgZtIw0oCJcqhT",
      "include_colab_link": true
    },
    "kernelspec": {
      "name": "python3",
      "display_name": "Python 3"
    },
    "language_info": {
      "name": "python"
    }
  },
  "cells": [
    {
      "cell_type": "markdown",
      "metadata": {
        "id": "view-in-github",
        "colab_type": "text"
      },
      "source": [
        "<a href=\"https://colab.research.google.com/github/SauravDakre/MachineLearning/blob/master/basics/numpy/numpy.ipynb\" target=\"_parent\"><img src=\"https://colab.research.google.com/assets/colab-badge.svg\" alt=\"Open In Colab\"/></a>"
      ]
    },
    {
      "cell_type": "code",
      "metadata": {
        "id": "5NCs7ej2coII"
      },
      "source": [
        "import numpy as np"
      ],
      "execution_count": 1,
      "outputs": []
    },
    {
      "cell_type": "markdown",
      "metadata": {
        "id": "z2BCKfmqdzGR"
      },
      "source": [
        "# NumPy Arrays"
      ]
    },
    {
      "cell_type": "markdown",
      "metadata": {
        "id": "8TMWY0ofekMm"
      },
      "source": [
        "\n",
        "`np.array` takes python list and dtype (numpy type) as input.  \n",
        "refer ex of 1-D matrix\n",
        "\n"
      ]
    },
    {
      "cell_type": "code",
      "metadata": {
        "colab": {
          "base_uri": "https://localhost:8080/"
        },
        "id": "IPMRCqcWc4QI",
        "outputId": "59cde489-0149-4cab-a4a3-2b9e5fde5e13"
      },
      "source": [
        "arr = np.array([0,1,2], dtype=np.float32)\n",
        "arr"
      ],
      "execution_count": 2,
      "outputs": [
        {
          "output_type": "execute_result",
          "data": {
            "text/plain": [
              "array([0., 1., 2.], dtype=float32)"
            ]
          },
          "metadata": {
            "tags": []
          },
          "execution_count": 2
        }
      ]
    },
    {
      "cell_type": "markdown",
      "metadata": {
        "id": "XiF3uZyjdgCg"
      },
      "source": [
        "repr() function returns a printable representation string of given object"
      ]
    },
    {
      "cell_type": "code",
      "metadata": {
        "colab": {
          "base_uri": "https://localhost:8080/",
          "height": 35
        },
        "id": "TC2NrJMzdRt3",
        "outputId": "d2726131-0c3a-42f2-8f38-e36559025013"
      },
      "source": [
        "repr(arr)"
      ],
      "execution_count": 4,
      "outputs": [
        {
          "output_type": "execute_result",
          "data": {
            "application/vnd.google.colaboratory.intrinsic+json": {
              "type": "string"
            },
            "text/plain": [
              "'array([0., 1., 2.], dtype=float32)'"
            ]
          },
          "metadata": {
            "tags": []
          },
          "execution_count": 4
        }
      ]
    },
    {
      "cell_type": "code",
      "metadata": {
        "colab": {
          "base_uri": "https://localhost:8080/"
        },
        "id": "-tNu5obYeCPb",
        "outputId": "68fb9aef-fb18-4ce4-ab1d-2c3a102e5449"
      },
      "source": [
        "print(repr(arr))"
      ],
      "execution_count": 5,
      "outputs": [
        {
          "output_type": "stream",
          "text": [
            "array([0., 1., 2.], dtype=float32)\n"
          ],
          "name": "stdout"
        }
      ]
    },
    {
      "cell_type": "markdown",
      "metadata": {
        "id": "fot9BklreSuB"
      },
      "source": [
        "example to create 2D matrix"
      ]
    },
    {
      "cell_type": "code",
      "metadata": {
        "colab": {
          "base_uri": "https://localhost:8080/"
        },
        "id": "64VVn8QDdckH",
        "outputId": "c79bcb2e-c1a2-43e7-8795-08f078680a2f"
      },
      "source": [
        "arr = np.array([[0,1,2], [3,4,5]], dtype=np.float32)\n",
        "arr"
      ],
      "execution_count": 8,
      "outputs": [
        {
          "output_type": "execute_result",
          "data": {
            "text/plain": [
              "array([[0., 1., 2.],\n",
              "       [3., 4., 5.]], dtype=float32)"
            ]
          },
          "metadata": {
            "tags": []
          },
          "execution_count": 8
        }
      ]
    },
    {
      "cell_type": "code",
      "metadata": {
        "id": "EaEw1KD6f1BR"
      },
      "source": [
        ""
      ],
      "execution_count": null,
      "outputs": []
    },
    {
      "cell_type": "markdown",
      "metadata": {
        "id": "aXqptnmvf1gR"
      },
      "source": [
        "## Copying"
      ]
    },
    {
      "cell_type": "code",
      "metadata": {
        "colab": {
          "base_uri": "https://localhost:8080/"
        },
        "id": "AiM2RnzEeJ0K",
        "outputId": "8725e674-39bd-477c-dda0-661f44c8ab7d"
      },
      "source": [
        "a = np.array([0,2])\n",
        "b = np.array([1,5])\n",
        "print('a: {}'.format(repr(a)))\n",
        "print('b: {}'.format(repr(b)))\n",
        "c=a\n",
        "d = b.copy()\n",
        "c[0]=5\n",
        "d[0]=6\n",
        "print('a: {}'.format(repr(a)))\n",
        "print('b: {}'.format(repr(b)))"
      ],
      "execution_count": 10,
      "outputs": [
        {
          "output_type": "stream",
          "text": [
            "a: array([0, 2])\n",
            "b: array([1, 5])\n",
            "a: array([5, 2])\n",
            "b: array([1, 5])\n"
          ],
          "name": "stdout"
        }
      ]
    },
    {
      "cell_type": "markdown",
      "metadata": {
        "id": "zegX6PI-geJK"
      },
      "source": [
        "## Casting"
      ]
    },
    {
      "cell_type": "code",
      "metadata": {
        "colab": {
          "base_uri": "https://localhost:8080/"
        },
        "id": "0jAxx8Hjfwma",
        "outputId": "fc3d88e2-cd71-4472-8377-a4745f2de425"
      },
      "source": [
        "a = np.array([0,2])\n",
        "print(a.dtype , a)\n",
        "a = a.astype(np.float32)\n",
        "print(a.dtype , a)"
      ],
      "execution_count": 11,
      "outputs": [
        {
          "output_type": "stream",
          "text": [
            "int64 [0 2]\n",
            "float32 [0. 2.]\n"
          ],
          "name": "stdout"
        }
      ]
    },
    {
      "cell_type": "markdown",
      "metadata": {
        "id": "WrITJ8SAhAmE"
      },
      "source": [
        "## NaN"
      ]
    },
    {
      "cell_type": "code",
      "metadata": {
        "colab": {
          "base_uri": "https://localhost:8080/"
        },
        "id": "hWqhuiwOfyVT",
        "outputId": "a54c2a3a-8ece-4188-8da3-c0a40c6efa40"
      },
      "source": [
        "a = np.array([np.nan, 1,2])\n",
        "b = np.array([np.nan, 'a'])\n",
        "\n",
        "# c = np.array([np.nan, 1], dtype=np.int32) # ValueError: cannot convert float NaN to integer\n",
        "print('a', a.dtype, a)\n",
        "print('b', b.dtype, b)"
      ],
      "execution_count": 15,
      "outputs": [
        {
          "output_type": "stream",
          "text": [
            "a float64 [nan  1.  2.]\n",
            "b <U32 ['nan' 'a']\n"
          ],
          "name": "stdout"
        }
      ]
    },
    {
      "cell_type": "markdown",
      "metadata": {
        "id": "bOCwVUaEh71W"
      },
      "source": [
        "## infinity"
      ]
    },
    {
      "cell_type": "code",
      "metadata": {
        "colab": {
          "base_uri": "https://localhost:8080/"
        },
        "id": "0faS3AsZhb98",
        "outputId": "55d6654e-8d25-4c81-aee8-597164a7bf6f"
      },
      "source": [
        "print(np.inf > 100000000000)\n",
        "a = np.array([np.inf, 5, -np.inf])\n",
        "print(repr(a))\n",
        "# np.array([np.inf, 5, -np.inf], dtype=np.int32) # OverflowError: cannot convert float infinity to integer"
      ],
      "execution_count": 17,
      "outputs": [
        {
          "output_type": "stream",
          "text": [
            "True\n",
            "array([ inf,   5., -inf])\n"
          ],
          "name": "stdout"
        }
      ]
    },
    {
      "cell_type": "code",
      "metadata": {
        "colab": {
          "base_uri": "https://localhost:8080/"
        },
        "id": "pBO07QAoiT-P",
        "outputId": "a250829a-c0c7-4bff-ae15-045f1313d607"
      },
      "source": [
        "float_arr = np.array([1,5.4, 3])\n",
        "print(float_arr.dtype, repr(float_arr))"
      ],
      "execution_count": 19,
      "outputs": [
        {
          "output_type": "stream",
          "text": [
            "float64 array([1. , 5.4, 3. ])\n"
          ],
          "name": "stdout"
        }
      ]
    },
    {
      "cell_type": "code",
      "metadata": {
        "id": "6GnnA2tbjzvd"
      },
      "source": [
        ""
      ],
      "execution_count": null,
      "outputs": []
    },
    {
      "cell_type": "markdown",
      "metadata": {
        "id": "ffHBzpdJwFxG"
      },
      "source": [
        "# Basics"
      ]
    },
    {
      "cell_type": "markdown",
      "metadata": {
        "id": "tGsIEpvby4z4"
      },
      "source": [
        "## ranged data"
      ]
    },
    {
      "cell_type": "code",
      "metadata": {
        "colab": {
          "base_uri": "https://localhost:8080/"
        },
        "id": "Vki9TfTjwHnf",
        "outputId": "afae6453-15dc-4d93-fcb0-52344b8a4b56"
      },
      "source": [
        "a = np.arange(2)\n",
        "b = np.arange(-1,3)\n",
        "c = np.arange(2,15,4)\n",
        "print(a)\n",
        "print(b)\n",
        "print(c)"
      ],
      "execution_count": 23,
      "outputs": [
        {
          "output_type": "stream",
          "text": [
            "[0 1]\n",
            "[-1  0  1  2]\n",
            "[ 2  6 10 14]\n"
          ],
          "name": "stdout"
        }
      ]
    },
    {
      "cell_type": "code",
      "metadata": {
        "colab": {
          "base_uri": "https://localhost:8080/"
        },
        "id": "UoAbkWgByDCP",
        "outputId": "727315ae-d048-4eae-8794-5508e99f79f4"
      },
      "source": [
        "a = np.linspace(2,15,num=4)\n",
        "b = np.linspace(2,15,num=4,endpoint=False)\n",
        "c = np.linspace(2,15,num=4,endpoint=False, dtype=np.int32)\n",
        "print(a)\n",
        "print(b)\n",
        "print(c)"
      ],
      "execution_count": 24,
      "outputs": [
        {
          "output_type": "stream",
          "text": [
            "[ 2.          6.33333333 10.66666667 15.        ]\n",
            "[ 2.    5.25  8.5  11.75]\n",
            "[ 2  5  8 11]\n"
          ],
          "name": "stdout"
        }
      ]
    },
    {
      "cell_type": "code",
      "metadata": {
        "id": "qmfV69FowOFT"
      },
      "source": [
        ""
      ],
      "execution_count": null,
      "outputs": []
    },
    {
      "cell_type": "markdown",
      "metadata": {
        "id": "sIf9dfjpzUW4"
      },
      "source": [
        "## reshape"
      ]
    },
    {
      "cell_type": "code",
      "metadata": {
        "colab": {
          "base_uri": "https://localhost:8080/"
        },
        "id": "7kgfi0-PzVoD",
        "outputId": "a83faced-3de5-4334-e9be-02db81b7a01c"
      },
      "source": [
        "ar = np.arange(10)\n",
        "print(ar.dtype, ar)"
      ],
      "execution_count": 26,
      "outputs": [
        {
          "output_type": "stream",
          "text": [
            "int64 [0 1 2 3 4 5 6 7 8 9]\n"
          ],
          "name": "stdout"
        }
      ]
    },
    {
      "cell_type": "code",
      "metadata": {
        "colab": {
          "base_uri": "https://localhost:8080/"
        },
        "id": "lX9hsiNbzZwL",
        "outputId": "724718a5-9d9b-487f-b5f0-e6a58e8d8aa5"
      },
      "source": [
        "# r1 = np.reshape(ar, (2,4)) # ValueError: cannot reshape array of size 10 into shape (2,4)\n",
        "r2 = np.reshape(ar, (2,5))\n",
        "print( r2)"
      ],
      "execution_count": 31,
      "outputs": [
        {
          "output_type": "stream",
          "text": [
            "[[0 1 2 3 4]\n",
            " [5 6 7 8 9]]\n"
          ],
          "name": "stdout"
        }
      ]
    },
    {
      "cell_type": "code",
      "metadata": {
        "colab": {
          "base_uri": "https://localhost:8080/"
        },
        "id": "umSfssHzz8yg",
        "outputId": "0ca06382-5ebb-4dc6-de5a-69cc7ef79783"
      },
      "source": [
        "ar = np.arange(12)\n",
        "r2 = np.reshape(ar, (2,-1,2)) # the special value of -1 can be used in at most one dimension of the new shape. The dimension with -1 will take on the value necessary to allow the new shape to contain all the elements of the array.\n",
        "print(r2.shape, r2)"
      ],
      "execution_count": 35,
      "outputs": [
        {
          "output_type": "stream",
          "text": [
            "(2, 3, 2) [[[ 0  1]\n",
            "  [ 2  3]\n",
            "  [ 4  5]]\n",
            "\n",
            " [[ 6  7]\n",
            "  [ 8  9]\n",
            "  [10 11]]]\n"
          ],
          "name": "stdout"
        }
      ]
    },
    {
      "cell_type": "code",
      "metadata": {
        "colab": {
          "base_uri": "https://localhost:8080/"
        },
        "id": "fPXBqs3c0qky",
        "outputId": "26a5846b-7608-49a0-e604-f9d1a96c8730"
      },
      "source": [
        "f1 = r2.flatten()\n",
        "print(f1.shape, f1)"
      ],
      "execution_count": 37,
      "outputs": [
        {
          "output_type": "stream",
          "text": [
            "(12,) [ 0  1  2  3  4  5  6  7  8  9 10 11]\n"
          ],
          "name": "stdout"
        }
      ]
    },
    {
      "cell_type": "markdown",
      "metadata": {
        "id": "CGm3XIBm3Fd5"
      },
      "source": [
        "## transpose"
      ]
    },
    {
      "cell_type": "code",
      "metadata": {
        "colab": {
          "base_uri": "https://localhost:8080/"
        },
        "id": "vRhgVevM27Oz",
        "outputId": "eae76891-6677-4c10-b6d0-73b131cb4a21"
      },
      "source": [
        "arr = np.arange(8)\n",
        "arr = np.reshape(arr, (4, 2))\n",
        "transposed = np.transpose(arr)\n",
        "print(arr.shape, arr)\n",
        "print(transposed.shape, transposed)"
      ],
      "execution_count": 39,
      "outputs": [
        {
          "output_type": "stream",
          "text": [
            "(4, 2) [[0 1]\n",
            " [2 3]\n",
            " [4 5]\n",
            " [6 7]]\n",
            "(2, 4) [[0 2 4 6]\n",
            " [1 3 5 7]]\n"
          ],
          "name": "stdout"
        }
      ]
    },
    {
      "cell_type": "code",
      "metadata": {
        "colab": {
          "base_uri": "https://localhost:8080/"
        },
        "id": "n0NrqTpJ3yir",
        "outputId": "53e8d287-f38d-406a-adc0-ba32653ee34b"
      },
      "source": [
        "arr = np.arange(24)\n",
        "arr = np.reshape(arr, (3, 4, 2))\n",
        "print(arr)\n",
        "transposed = np.transpose(arr, axes=(1, 2, 0))\n",
        "print(transposed)\n",
        "print('arr shape: {}'.format(arr.shape))\n",
        "print('transposed shape: {}'.format(transposed.shape))"
      ],
      "execution_count": 41,
      "outputs": [
        {
          "output_type": "stream",
          "text": [
            "[[[ 0  1]\n",
            "  [ 2  3]\n",
            "  [ 4  5]\n",
            "  [ 6  7]]\n",
            "\n",
            " [[ 8  9]\n",
            "  [10 11]\n",
            "  [12 13]\n",
            "  [14 15]]\n",
            "\n",
            " [[16 17]\n",
            "  [18 19]\n",
            "  [20 21]\n",
            "  [22 23]]]\n",
            "[[[ 0  8 16]\n",
            "  [ 1  9 17]]\n",
            "\n",
            " [[ 2 10 18]\n",
            "  [ 3 11 19]]\n",
            "\n",
            " [[ 4 12 20]\n",
            "  [ 5 13 21]]\n",
            "\n",
            " [[ 6 14 22]\n",
            "  [ 7 15 23]]]\n",
            "arr shape: (3, 4, 2)\n",
            "transposed shape: (4, 2, 3)\n"
          ],
          "name": "stdout"
        }
      ]
    },
    {
      "cell_type": "code",
      "metadata": {
        "colab": {
          "base_uri": "https://localhost:8080/"
        },
        "id": "DVy3cRGG4YM3",
        "outputId": "50300bf6-a5d0-4f0b-8690-31baae040521"
      },
      "source": [
        "a = np.zeros(4)\n",
        "print(a)\n",
        "b = np.ones((2,4), dtype=np.int32)\n",
        "print(b)\n",
        "c=np.zeros_like(b)\n",
        "print(c)\n",
        "a = np.array([[1,2], [3,4]])\n",
        "print(a)\n",
        "b = np.ones_like(a)\n",
        "print(b)\n"
      ],
      "execution_count": 45,
      "outputs": [
        {
          "output_type": "stream",
          "text": [
            "[0. 0. 0. 0.]\n",
            "[[1 1 1 1]\n",
            " [1 1 1 1]]\n",
            "[[0 0 0 0]\n",
            " [0 0 0 0]]\n",
            "[[1 2]\n",
            " [3 4]]\n",
            "[[1 1]\n",
            " [1 1]]\n"
          ],
          "name": "stdout"
        }
      ]
    },
    {
      "cell_type": "code",
      "metadata": {
        "id": "A_WT9PBk5Ywm"
      },
      "source": [
        ""
      ],
      "execution_count": null,
      "outputs": []
    }
  ]
}