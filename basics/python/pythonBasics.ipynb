{
  "nbformat": 4,
  "nbformat_minor": 0,
  "metadata": {
    "colab": {
      "name": "pythonBasics.ipynb",
      "provenance": [],
      "authorship_tag": "ABX9TyPSbaelQs22El5eR3yYp/v4",
      "include_colab_link": true
    },
    "kernelspec": {
      "name": "python3",
      "display_name": "Python 3"
    }
  },
  "cells": [
    {
      "cell_type": "markdown",
      "metadata": {
        "id": "view-in-github",
        "colab_type": "text"
      },
      "source": [
        "<a href=\"https://colab.research.google.com/github/SauravDakre/MachineLearning/blob/master/basics/python/pythonBasics.ipynb\" target=\"_parent\"><img src=\"https://colab.research.google.com/assets/colab-badge.svg\" alt=\"Open In Colab\"/></a>"
      ]
    },
    {
      "cell_type": "markdown",
      "metadata": {
        "id": "vDuiLla7kbgP"
      },
      "source": [
        "# Tuple \n",
        "- tuple is one dimensional representation of data which can be of mixed type and is immutable"
      ]
    },
    {
      "cell_type": "code",
      "metadata": {
        "id": "p5JsjzOdkSrC",
        "outputId": "95934130-4093-4646-f033-7c4898adeeb6",
        "colab": {
          "base_uri": "https://localhost:8080/"
        }
      },
      "source": [
        "tup1 = (1,2,'pune')\n",
        "print(tup1)"
      ],
      "execution_count": 1,
      "outputs": [
        {
          "output_type": "stream",
          "text": [
            "(1, 2, 'pune')\n"
          ],
          "name": "stdout"
        }
      ]
    },
    {
      "cell_type": "code",
      "metadata": {
        "id": "__ePwthDlBuC",
        "outputId": "2905a0ad-a497-4c7a-c8c7-22d13364a112",
        "colab": {
          "base_uri": "https://localhost:8080/"
        }
      },
      "source": [
        "tup2 = (10,10,22,33,43,33,56,78,10)\n",
        "print(\"type\",type(tup2))\n",
        "print(tup2[1])\n",
        "print(\"count 33:\",tup2.count(33))\n",
        "print(\"index 33:\",tup2.index(33))"
      ],
      "execution_count": 3,
      "outputs": [
        {
          "output_type": "stream",
          "text": [
            "type <class 'tuple'>\n",
            "10\n",
            "count 33: 2\n",
            "index 33: 3\n"
          ],
          "name": "stdout"
        }
      ]
    },
    {
      "cell_type": "code",
      "metadata": {
        "id": "thYu6jqglIyN",
        "outputId": "9681f5f3-add8-4d5f-9da0-de990d6a144e",
        "colab": {
          "base_uri": "https://localhost:8080/",
          "height": 167
        }
      },
      "source": [
        "tup2[2] = 55 # tuple is immutable"
      ],
      "execution_count": 4,
      "outputs": [
        {
          "output_type": "error",
          "ename": "TypeError",
          "evalue": "ignored",
          "traceback": [
            "\u001b[0;31m---------------------------------------------------------------------------\u001b[0m",
            "\u001b[0;31mTypeError\u001b[0m                                 Traceback (most recent call last)",
            "\u001b[0;32m<ipython-input-4-3204ff615b24>\u001b[0m in \u001b[0;36m<module>\u001b[0;34m()\u001b[0m\n\u001b[0;32m----> 1\u001b[0;31m \u001b[0mtup2\u001b[0m\u001b[0;34m[\u001b[0m\u001b[0;36m2\u001b[0m\u001b[0;34m]\u001b[0m \u001b[0;34m=\u001b[0m \u001b[0;36m55\u001b[0m\u001b[0;34m\u001b[0m\u001b[0;34m\u001b[0m\u001b[0m\n\u001b[0m",
            "\u001b[0;31mTypeError\u001b[0m: 'tuple' object does not support item assignment"
          ]
        }
      ]
    }
  ]
}