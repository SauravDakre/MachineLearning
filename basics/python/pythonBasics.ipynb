{
  "nbformat": 4,
  "nbformat_minor": 0,
  "metadata": {
    "colab": {
      "name": "pythonBasics.ipynb",
      "provenance": [],
      "authorship_tag": "ABX9TyMxn7Sdh5HtgiQ24WmkozP2",
      "include_colab_link": true
    },
    "kernelspec": {
      "name": "python3",
      "display_name": "Python 3"
    }
  },
  "cells": [
    {
      "cell_type": "markdown",
      "metadata": {
        "id": "view-in-github",
        "colab_type": "text"
      },
      "source": [
        "<a href=\"https://colab.research.google.com/github/SauravDakre/MachineLearning/blob/master/basics/python/pythonBasics.ipynb\" target=\"_parent\"><img src=\"https://colab.research.google.com/assets/colab-badge.svg\" alt=\"Open In Colab\"/></a>"
      ]
    },
    {
      "cell_type": "markdown",
      "metadata": {
        "id": "vDuiLla7kbgP"
      },
      "source": [
        "# Tuple \n",
        "- tuple is one dimensional representation of data which can be of mixed type and is immutable"
      ]
    },
    {
      "cell_type": "code",
      "metadata": {
        "id": "p5JsjzOdkSrC",
        "outputId": "95934130-4093-4646-f033-7c4898adeeb6",
        "colab": {
          "base_uri": "https://localhost:8080/"
        }
      },
      "source": [
        "tup1 = (1,2,'pune')\n",
        "print(tup1)"
      ],
      "execution_count": 1,
      "outputs": [
        {
          "output_type": "stream",
          "text": [
            "(1, 2, 'pune')\n"
          ],
          "name": "stdout"
        }
      ]
    },
    {
      "cell_type": "code",
      "metadata": {
        "id": "__ePwthDlBuC",
        "outputId": "645fb1fd-2915-4dbf-9026-45e67095d6c7",
        "colab": {
          "base_uri": "https://localhost:8080/"
        }
      },
      "source": [
        "tup2 = (10,10,22,33,43,33,56,78,10)\n",
        "print(\"type\",type(tup2))\n",
        "print(tup2[1])\n",
        "print(\"count 33:\",tup2.count(33))\n",
        "print(\"index 33:\",tup2.index(33))"
      ],
      "execution_count": 13,
      "outputs": [
        {
          "output_type": "stream",
          "text": [
            "type <class 'tuple'>\n",
            "10\n",
            "count 33: 2\n",
            "index 33: 3\n"
          ],
          "name": "stdout"
        }
      ]
    },
    {
      "cell_type": "code",
      "metadata": {
        "id": "thYu6jqglIyN",
        "outputId": "9681f5f3-add8-4d5f-9da0-de990d6a144e",
        "colab": {
          "base_uri": "https://localhost:8080/",
          "height": 167
        }
      },
      "source": [
        "tup2[2] = 55 # tuple is immutable => we cannot edit or append a tuple"
      ],
      "execution_count": 4,
      "outputs": [
        {
          "output_type": "error",
          "ename": "TypeError",
          "evalue": "ignored",
          "traceback": [
            "\u001b[0;31m---------------------------------------------------------------------------\u001b[0m",
            "\u001b[0;31mTypeError\u001b[0m                                 Traceback (most recent call last)",
            "\u001b[0;32m<ipython-input-4-3204ff615b24>\u001b[0m in \u001b[0;36m<module>\u001b[0;34m()\u001b[0m\n\u001b[0;32m----> 1\u001b[0;31m \u001b[0mtup2\u001b[0m\u001b[0;34m[\u001b[0m\u001b[0;36m2\u001b[0m\u001b[0;34m]\u001b[0m \u001b[0;34m=\u001b[0m \u001b[0;36m55\u001b[0m\u001b[0;34m\u001b[0m\u001b[0;34m\u001b[0m\u001b[0m\n\u001b[0m",
            "\u001b[0;31mTypeError\u001b[0m: 'tuple' object does not support item assignment"
          ]
        }
      ]
    },
    {
      "cell_type": "code",
      "metadata": {
        "id": "GIN9rOuAqSH4",
        "outputId": "c9d1ffb2-badd-4263-e23e-d732424abe0b",
        "colab": {
          "base_uri": "https://localhost:8080/"
        }
      },
      "source": [
        "tup3 = tup2 + ('new',)\n",
        "tup3"
      ],
      "execution_count": 14,
      "outputs": [
        {
          "output_type": "execute_result",
          "data": {
            "text/plain": [
              "(10, 10, 22, 33, 43, 33, 56, 78, 10, 'new')"
            ]
          },
          "metadata": {
            "tags": []
          },
          "execution_count": 14
        }
      ]
    },
    {
      "cell_type": "markdown",
      "metadata": {
        "id": "4wGHITP4nJFw"
      },
      "source": [
        "# List\n",
        "- one dimensional representation of data of mixed type and is mutable"
      ]
    },
    {
      "cell_type": "code",
      "metadata": {
        "id": "icL4abEynO0a"
      },
      "source": [
        "l1 = [5,6,7,8,9,'data',10]"
      ],
      "execution_count": 5,
      "outputs": []
    },
    {
      "cell_type": "code",
      "metadata": {
        "id": "1W03H3bbojIm",
        "outputId": "a1c8fafe-61aa-405f-9532-1654a0eef039",
        "colab": {
          "base_uri": "https://localhost:8080/"
        }
      },
      "source": [
        "print(\"type:\", type(l1))\n",
        "print(l1)\n",
        "l1[1] = 111   # mutable\n",
        "l1.append(5)  # mutable\n",
        "print(l1)\n",
        "print(\"5 index\",l1.index(5))\n",
        "print(\"5 count\",l1.count(5))\n",
        "print('remove 8', l1.remove(8)) # remove element 8 not element at index 8\n",
        "print(l1)"
      ],
      "execution_count": 7,
      "outputs": [
        {
          "output_type": "stream",
          "text": [
            "type: <class 'list'>\n",
            "[5, 111, 7, 8, 9, 'data', 10, 5]\n",
            "[5, 111, 7, 8, 9, 'data', 10, 5, 5]\n",
            "5 index 0\n",
            "5 count 3\n",
            "remove 8 None\n",
            "[5, 111, 7, 9, 'data', 10, 5, 5]\n"
          ],
          "name": "stdout"
        }
      ]
    },
    {
      "cell_type": "code",
      "metadata": {
        "id": "idmy0Qfjpc-J",
        "outputId": "eeeb1f66-d30d-49f9-dff5-e64927ec49e6",
        "colab": {
          "base_uri": "https://localhost:8080/"
        }
      },
      "source": [
        "print(tup2)\n",
        "l2 = list(tup2) # create list from tuple\n",
        "l2.append('new element')\n",
        "tup2 = tuple(l2)\n",
        "print(tup2) # create tuple from list"
      ],
      "execution_count": 15,
      "outputs": [
        {
          "output_type": "stream",
          "text": [
            "(10, 10, 22, 33, 43, 33, 56, 78, 10)\n",
            "(10, 10, 22, 33, 43, 33, 56, 78, 10, 'new element')\n"
          ],
          "name": "stdout"
        }
      ]
    },
    {
      "cell_type": "markdown",
      "metadata": {
        "id": "RH4azt2UrFWP"
      },
      "source": [
        "# Dictionary\n",
        "- representation of data in key value format , also used to create data frame"
      ]
    },
    {
      "cell_type": "code",
      "metadata": {
        "id": "7EMpsOiFqKq1",
        "outputId": "a989ca2e-f05d-43be-b1b4-2b8f2f1a611c",
        "colab": {
          "base_uri": "https://localhost:8080/"
        }
      },
      "source": [
        "dict1={\n",
        "    'name':('mra', 'mrb', \"mrc\"),\n",
        "    'age': (19,20,21),\n",
        "    'department':('it', 'fin', 'accounts')\n",
        "}\n",
        "print(dict1)\n",
        "type(dict1)\n",
        "print(dict1.keys(), dict1.values())\n",
        "dict1['city'] ='pune'\n",
        "print(dict1.keys(), dict1.values())"
      ],
      "execution_count": 16,
      "outputs": [
        {
          "output_type": "stream",
          "text": [
            "{'name': ('mra', 'mrb', 'mrc'), 'age': (19, 20, 21), 'department': ('it', 'fin', 'accounts')}\n",
            "dict_keys(['name', 'age', 'department']) dict_values([('mra', 'mrb', 'mrc'), (19, 20, 21), ('it', 'fin', 'accounts')])\n",
            "dict_keys(['name', 'age', 'department', 'city']) dict_values([('mra', 'mrb', 'mrc'), (19, 20, 21), ('it', 'fin', 'accounts'), 'pune'])\n"
          ],
          "name": "stdout"
        }
      ]
    }
  ]
}