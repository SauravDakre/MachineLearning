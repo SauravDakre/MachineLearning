{
  "nbformat": 4,
  "nbformat_minor": 0,
  "metadata": {
    "colab": {
      "name": "pythonBasics.ipynb",
      "provenance": [],
      "authorship_tag": "ABX9TyPcrIRYbXUJRSDgzkUncdnQ",
      "include_colab_link": true
    },
    "kernelspec": {
      "name": "python3",
      "display_name": "Python 3"
    }
  },
  "cells": [
    {
      "cell_type": "markdown",
      "metadata": {
        "id": "view-in-github",
        "colab_type": "text"
      },
      "source": [
        "<a href=\"https://colab.research.google.com/github/SauravDakre/MachineLearning/blob/master/basics/python/pythonBasics.ipynb\" target=\"_parent\"><img src=\"https://colab.research.google.com/assets/colab-badge.svg\" alt=\"Open In Colab\"/></a>"
      ]
    },
    {
      "cell_type": "markdown",
      "metadata": {
        "id": "vDuiLla7kbgP"
      },
      "source": [
        "# Tuple \n",
        "- tuple is one dimensional representation of data which can be of mixed type and is immutable"
      ]
    },
    {
      "cell_type": "code",
      "metadata": {
        "id": "p5JsjzOdkSrC",
        "outputId": "95934130-4093-4646-f033-7c4898adeeb6",
        "colab": {
          "base_uri": "https://localhost:8080/"
        }
      },
      "source": [
        "tup1 = (1,2,'pune')\n",
        "print(tup1)"
      ],
      "execution_count": 1,
      "outputs": [
        {
          "output_type": "stream",
          "text": [
            "(1, 2, 'pune')\n"
          ],
          "name": "stdout"
        }
      ]
    }
  ]
}